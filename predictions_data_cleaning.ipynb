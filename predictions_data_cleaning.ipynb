{
 "cells": [
  {
   "cell_type": "code",
   "execution_count": 17,
   "metadata": {},
   "outputs": [],
   "source": [
    "import pandas as pd\n",
    "import numpy as np"
   ]
  },
  {
   "cell_type": "code",
   "execution_count": 29,
   "metadata": {},
   "outputs": [],
   "source": [
    "# read final all teams stats data from a parquet file\n",
    "all_teams_stats = pd.read_parquet(\"final_stats.parquet\")\n",
    "all_teams_stats_df = pd.DataFrame(all_teams_stats)\n",
    "\n",
    "# read all teams list\n",
    "all_teams_info = pd.read_parquet(\"team_list.parquet\")\n",
    "all_teams_info_df = pd.DataFrame(all_teams_info) \n",
    "all_teams_info_df = all_teams_info_df.drop(index=0)\n",
    "\n",
    "# read fixture data from a parquet file\n",
    "fixtures_data = pd.read_parquet(\"fixtures.parquet\")\n",
    "fixtures_df = pd.DataFrame(fixtures_data, index=None)"
   ]
  },
  {
   "cell_type": "code",
   "execution_count": null,
   "metadata": {},
   "outputs": [],
   "source": [
    "# merge the dataframes on team  ID"
   ]
  }
 ],
 "metadata": {
  "kernelspec": {
   "display_name": "FootballPredictions",
   "language": "python",
   "name": "python3"
  },
  "language_info": {
   "codemirror_mode": {
    "name": "ipython",
    "version": 3
   },
   "file_extension": ".py",
   "mimetype": "text/x-python",
   "name": "python",
   "nbconvert_exporter": "python",
   "pygments_lexer": "ipython3",
   "version": "3.12.6"
  }
 },
 "nbformat": 4,
 "nbformat_minor": 2
}
